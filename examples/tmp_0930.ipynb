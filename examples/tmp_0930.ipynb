{
 "cells": [
  {
   "cell_type": "markdown",
   "id": "9848859e",
   "metadata": {},
   "source": [
    "# 1.数据预处理\n",
    "目前的数据主要为json格式.\n",
    "需要进过多部处理才可以作为输入模型的数据.\n",
    "\n",
    "1. 读取json文件\n",
    "2. 转为为NodePlan\n",
    "3. 转为为dataframe (添加两个字段: sql_id, parent_id)\n",
    "4. 转为为Matrix(Node, Edge)"
   ]
  },
  {
   "cell_type": "markdown",
   "id": "224576b2",
   "metadata": {},
   "source": []
  }
 ],
 "metadata": {
  "language_info": {
   "name": "python"
  }
 },
 "nbformat": 4,
 "nbformat_minor": 5
}
