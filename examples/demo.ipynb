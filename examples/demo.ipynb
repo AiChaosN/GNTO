{
 "cells": [
  {
   "cell_type": "code",
   "execution_count": 1,
   "id": "76d54d00",
   "metadata": {},
   "outputs": [
    {
     "name": "stdout",
     "output_type": "stream",
     "text": [
      "df:\n",
      "    id                                               json\n",
      "0   0  {\"Plan\": {\"Node Type\": \"Gather\", \"Parallel Awa...\n",
      "1   1  {\"Plan\": {\"Node Type\": \"Seq Scan\", \"Parallel A...\n",
      "2   2  {\"Plan\": {\"Node Type\": \"Seq Scan\", \"Parallel A...\n",
      "3   3  {\"Plan\": {\"Node Type\": \"Gather\", \"Parallel Awa...\n",
      "4   4  {\"Plan\": {\"Node Type\": \"Bitmap Heap Scan\", \"Pa...\n",
      "plans_json:\n",
      " {\"Plan\": {\"Node Type\": \"Gather\", \"Parallel Aware\": false, \"Startup Cost\": 23540.58, \"Total Cost\": 154548.95, \"Plan Rows\": 567655, \"Plan Width\": 119, \"Actual Startup Time\": 386.847, \"Actual Total Time\": 646.972, \"Actual Rows\": 283812, \"Actual Loops\": 1, \"Workers Planned\": 2, \"Workers Launched\": 2, \"Single Copy\": false, \"Plans\": [{\"Node Type\": \"Hash Join\", \"Parent Relationship\": \"Outer\", \"Parallel Aware\": true, \"Join Type\": \"Inner\", \"Startup Cost\": 22540.58, \"Total Cost\": 96783.45, \"Plan Rows\": 236523, \"Plan Width\": 119, \"Actual Startup Time\": 369.985, \"Actual Total Time\": 518.487, \"Actual Rows\": 94604, \"Actual Loops\": 3, \"Inner Unique\": false, \"Hash Cond\": \"(t.id = mi_idx.movie_id)\", \"Workers\": [], \"Plans\": [{\"Node Type\": \"Seq Scan\", \"Parent Relationship\": \"Outer\", \"Parallel Aware\": true, \"Relation Name\": \"title\", \"Alias\": \"t\", \"Startup Cost\": 0.0, \"Total Cost\": 49166.46, \"Plan Rows\": 649574, \"Plan Width\": 94, \"Actual Startup Time\": 0.366, \"Actual Total Time\": 147.047, \"Actual Rows\": 514421, \"Actual Loops\": 3, \"Filter\": \"(kind_id = 7)\", \"Rows Removed by Filter\": 328349, \"Workers\": []}, {\"Node Type\": \"Hash\", \"Parent Relationship\": \"Inner\", \"Parallel Aware\": true, \"Startup Cost\": 15122.68, \"Total Cost\": 15122.68, \"Plan Rows\": 383592, \"Plan Width\": 25, \"Actual Startup Time\": 103.547, \"Actual Total Time\": 103.547, \"Actual Rows\": 306703, \"Actual Loops\": 3, \"Hash Buckets\": 65536, \"Original Hash Buckets\": 65536, \"Hash Batches\": 32, \"Original Hash Batches\": 32, \"Peak Memory Usage\": 1920, \"Workers\": [], \"Plans\": [{\"Node Type\": \"Seq Scan\", \"Parent Relationship\": \"Outer\", \"Parallel Aware\": true, \"Relation Name\": \"movie_info_idx\", \"Alias\": \"mi_idx\", \"Startup Cost\": 0.0, \"Total Cost\": 15122.68, \"Plan Rows\": 383592, \"Plan Width\": 25, \"Actual Startup Time\": 0.28, \"Actual Total Time\": 54.382, \"Actual Rows\": 306703, \"Actual Loops\": 3, \"Filter\": \"(info_type_id > 99)\", \"Rows Removed by Filter\": 153308, \"Workers\": []}]}]}]}, \"Planning Time\": 2.382, \"Triggers\": [], \"Execution Time\": 654.241}\n",
      "plans_dict:\n",
      " {'Node Type': 'Gather', 'Parallel Aware': False, 'Startup Cost': 23540.58, 'Total Cost': 154548.95, 'Plan Rows': 567655, 'Plan Width': 119, 'Actual Startup Time': 386.847, 'Actual Total Time': 646.972, 'Actual Rows': 283812, 'Actual Loops': 1, 'Workers Planned': 2, 'Workers Launched': 2, 'Single Copy': False, 'Plans': [{'Node Type': 'Hash Join', 'Parent Relationship': 'Outer', 'Parallel Aware': True, 'Join Type': 'Inner', 'Startup Cost': 22540.58, 'Total Cost': 96783.45, 'Plan Rows': 236523, 'Plan Width': 119, 'Actual Startup Time': 369.985, 'Actual Total Time': 518.487, 'Actual Rows': 94604, 'Actual Loops': 3, 'Inner Unique': False, 'Hash Cond': '(t.id = mi_idx.movie_id)', 'Workers': [], 'Plans': [{'Node Type': 'Seq Scan', 'Parent Relationship': 'Outer', 'Parallel Aware': True, 'Relation Name': 'title', 'Alias': 't', 'Startup Cost': 0.0, 'Total Cost': 49166.46, 'Plan Rows': 649574, 'Plan Width': 94, 'Actual Startup Time': 0.366, 'Actual Total Time': 147.047, 'Actual Rows': 514421, 'Actual Loops': 3, 'Filter': '(kind_id = 7)', 'Rows Removed by Filter': 328349, 'Workers': []}, {'Node Type': 'Hash', 'Parent Relationship': 'Inner', 'Parallel Aware': True, 'Startup Cost': 15122.68, 'Total Cost': 15122.68, 'Plan Rows': 383592, 'Plan Width': 25, 'Actual Startup Time': 103.547, 'Actual Total Time': 103.547, 'Actual Rows': 306703, 'Actual Loops': 3, 'Hash Buckets': 65536, 'Original Hash Buckets': 65536, 'Hash Batches': 32, 'Original Hash Batches': 32, 'Peak Memory Usage': 1920, 'Workers': [], 'Plans': [{'Node Type': 'Seq Scan', 'Parent Relationship': 'Outer', 'Parallel Aware': True, 'Relation Name': 'movie_info_idx', 'Alias': 'mi_idx', 'Startup Cost': 0.0, 'Total Cost': 15122.68, 'Plan Rows': 383592, 'Plan Width': 25, 'Actual Startup Time': 0.28, 'Actual Total Time': 54.382, 'Actual Rows': 306703, 'Actual Loops': 3, 'Filter': '(info_type_id > 99)', 'Rows Removed by Filter': 153308, 'Workers': []}]}]}]}\n"
     ]
    }
   ],
   "source": [
    "# 读取数据\n",
    "import pandas as pd\n",
    "import json\n",
    "df = pd.read_csv('../data/demo_plan_01.csv')\n",
    "print(\"df:\\n\", df.head())\n",
    "\n",
    "#获取json字符串\n",
    "plans_json = df['json']\n",
    "print(\"plans_json:\\n\", plans_json.iloc[0])\n",
    "\n",
    "\n",
    "\n",
    "\n",
    "#字符串转json\n",
    "plans_dict = []\n",
    "ExecutionTimes = []\n",
    "for json_str in plans_json:\n",
    "    plan_dict = json.loads(json_str)\n",
    "    plans_dict.append(plan_dict['Plan'])\n",
    "    ExecutionTimes.append(plan_dict['Execution Time'])\n",
    "print(\"plans_dict:\\n\", plans_dict[0])\n",
    "\n"
   ]
  },
  {
   "cell_type": "code",
   "execution_count": 2,
   "id": "cae38a6c",
   "metadata": {},
   "outputs": [
    {
     "name": "stdout",
     "output_type": "stream",
     "text": [
      "PlanNode(node_type='Gather', children=[PlanNode(node_type='Hash Join', children=[PlanNode(node_type='Seq Scan', children=[], extra_info={'Node Type': 'Seq Scan', 'Parent Relationship': 'Outer', 'Parallel Aware': True, 'Relation Name': 'title', 'Alias': 't', 'Startup Cost': 0.0, 'Total Cost': 49166.46, 'Plan Rows': 649574, 'Plan Width': 94, 'Actual Startup Time': 0.366, 'Actual Total Time': 147.047, 'Actual Rows': 514421, 'Actual Loops': 3, 'Filter': '(kind_id = 7)', 'Rows Removed by Filter': 328349, 'Workers': []}, node_vector=None), PlanNode(node_type='Hash', children=[PlanNode(node_type='Seq Scan', children=[], extra_info={'Node Type': 'Seq Scan', 'Parent Relationship': 'Outer', 'Parallel Aware': True, 'Relation Name': 'movie_info_idx', 'Alias': 'mi_idx', 'Startup Cost': 0.0, 'Total Cost': 15122.68, 'Plan Rows': 383592, 'Plan Width': 25, 'Actual Startup Time': 0.28, 'Actual Total Time': 54.382, 'Actual Rows': 306703, 'Actual Loops': 3, 'Filter': '(info_type_id > 99)', 'Rows Removed by Filter': 153308, 'Workers': []}, node_vector=None)], extra_info={'Node Type': 'Hash', 'Parent Relationship': 'Inner', 'Parallel Aware': True, 'Startup Cost': 15122.68, 'Total Cost': 15122.68, 'Plan Rows': 383592, 'Plan Width': 25, 'Actual Startup Time': 103.547, 'Actual Total Time': 103.547, 'Actual Rows': 306703, 'Actual Loops': 3, 'Hash Buckets': 65536, 'Original Hash Buckets': 65536, 'Hash Batches': 32, 'Original Hash Batches': 32, 'Peak Memory Usage': 1920, 'Workers': []}, node_vector=None)], extra_info={'Node Type': 'Hash Join', 'Parent Relationship': 'Outer', 'Parallel Aware': True, 'Join Type': 'Inner', 'Startup Cost': 22540.58, 'Total Cost': 96783.45, 'Plan Rows': 236523, 'Plan Width': 119, 'Actual Startup Time': 369.985, 'Actual Total Time': 518.487, 'Actual Rows': 94604, 'Actual Loops': 3, 'Inner Unique': False, 'Hash Cond': '(t.id = mi_idx.movie_id)', 'Workers': []}, node_vector=None)], extra_info={'Node Type': 'Gather', 'Parallel Aware': False, 'Startup Cost': 23540.58, 'Total Cost': 154548.95, 'Plan Rows': 567655, 'Plan Width': 119, 'Actual Startup Time': 386.847, 'Actual Total Time': 646.972, 'Actual Rows': 283812, 'Actual Loops': 1, 'Workers Planned': 2, 'Workers Launched': 2, 'Single Copy': False}, node_vector=None)\n",
      "PlanNode(node_type='Seq Scan', children=[], extra_info={'Node Type': 'Seq Scan', 'Parallel Aware': False, 'Relation Name': 'title', 'Alias': 't', 'Startup Cost': 0.0, 'Total Cost': 67602.3, 'Plan Rows': 1116092, 'Plan Width': 94, 'Actual Startup Time': 0.035, 'Actual Total Time': 322.837, 'Actual Rows': 1107925, 'Actual Loops': 1, 'Filter': '(production_year > 2004)', 'Rows Removed by Filter': 1420387}, node_vector=None)\n",
      "PlanNode(node_type='Seq Scan', children=[], extra_info={'Node Type': 'Seq Scan', 'Parallel Aware': False, 'Relation Name': 'movie_info', 'Alias': 'mi', 'Startup Cost': 0.0, 'Total Cost': 347461.15, 'Plan Rows': 3700158, 'Plan Width': 74, 'Actual Startup Time': 188.05, 'Actual Total Time': 1611.147, 'Actual Rows': 3624977, 'Actual Loops': 1, 'Filter': '(info_type_id < 4)', 'Rows Removed by Filter': 11210743}, node_vector=None)\n",
      "PlanNode(node_type='Gather', children=[PlanNode(node_type='Hash Join', children=[PlanNode(node_type='Seq Scan', children=[], extra_info={'Node Type': 'Seq Scan', 'Parent Relationship': 'Outer', 'Parallel Aware': True, 'Relation Name': 'title', 'Alias': 't', 'Startup Cost': 0.0, 'Total Cost': 46532.77, 'Plan Rows': 1053477, 'Plan Width': 94, 'Actual Startup Time': 0.352, 'Actual Total Time': 108.439, 'Actual Rows': 842771, 'Actual Loops': 3, 'Workers': []}, node_vector=None), PlanNode(node_type='Hash', children=[PlanNode(node_type='Bitmap Heap Scan', children=[PlanNode(node_type='Bitmap Index Scan', children=[], extra_info={'Node Type': 'Bitmap Index Scan', 'Parent Relationship': 'Outer', 'Parallel Aware': False, 'Index Name': 'company_id_movie_companies', 'Startup Cost': 0.0, 'Total Cost': 1541.63, 'Plan Rows': 130827, 'Plan Width': 0, 'Actual Startup Time': 5.26, 'Actual Total Time': 5.26, 'Actual Rows': 134807, 'Actual Loops': 1, 'Index Cond': '(company_id < 27)', 'Workers': []}, node_vector=None)], extra_info={'Node Type': 'Bitmap Heap Scan', 'Parent Relationship': 'Outer', 'Parallel Aware': True, 'Relation Name': 'movie_companies', 'Alias': 'mc', 'Startup Cost': 1574.34, 'Total Cost': 21045.73, 'Plan Rows': 54511, 'Plan Width': 40, 'Actual Startup Time': 2.121, 'Actual Total Time': 42.538, 'Actual Rows': 44936, 'Actual Loops': 3, 'Recheck Cond': '(company_id < 27)', 'Rows Removed by Index Recheck': 0, 'Exact Heap Blocks': 4413, 'Lossy Heap Blocks': 0, 'Workers': []}, node_vector=None)], extra_info={'Node Type': 'Hash', 'Parent Relationship': 'Inner', 'Parallel Aware': True, 'Startup Cost': 21045.73, 'Total Cost': 21045.73, 'Plan Rows': 54511, 'Plan Width': 40, 'Actual Startup Time': 52.596, 'Actual Total Time': 52.596, 'Actual Rows': 44936, 'Actual Loops': 3, 'Hash Buckets': 262144, 'Original Hash Buckets': 131072, 'Hash Batches': 1, 'Original Hash Batches': 1, 'Peak Memory Usage': 12448, 'Workers': []}, node_vector=None)], extra_info={'Node Type': 'Hash Join', 'Parent Relationship': 'Outer', 'Parallel Aware': True, 'Join Type': 'Inner', 'Startup Cost': 21727.12, 'Total Cost': 73754.4, 'Plan Rows': 54511, 'Plan Width': 134, 'Actual Startup Time': 53.157, 'Actual Total Time': 304.149, 'Actual Rows': 44936, 'Actual Loops': 3, 'Inner Unique': False, 'Hash Cond': '(t.id = mc.movie_id)', 'Workers': []}, node_vector=None)], extra_info={'Node Type': 'Gather', 'Parallel Aware': False, 'Startup Cost': 22727.12, 'Total Cost': 87837.1, 'Plan Rows': 130827, 'Plan Width': 134, 'Actual Startup Time': 67.08, 'Actual Total Time': 341.561, 'Actual Rows': 134807, 'Actual Loops': 1, 'Workers Planned': 2, 'Workers Launched': 2, 'Single Copy': False}, node_vector=None)\n",
      "PlanNode(node_type='Bitmap Heap Scan', children=[PlanNode(node_type='Bitmap Index Scan', children=[], extra_info={'Node Type': 'Bitmap Index Scan', 'Parent Relationship': 'Outer', 'Parallel Aware': False, 'Index Name': 'keyword_id_movie_keyword', 'Startup Cost': 0.0, 'Total Cost': 709.87, 'Plan Rows': 63125, 'Plan Width': 0, 'Actual Startup Time': 3.307, 'Actual Total Time': 3.307, 'Actual Rows': 54826, 'Actual Loops': 1, 'Index Cond': '(keyword_id < 55)'}, node_vector=None)], extra_info={'Node Type': 'Bitmap Heap Scan', 'Parallel Aware': False, 'Relation Name': 'movie_keyword', 'Alias': 'mk', 'Startup Cost': 725.65, 'Total Cost': 25968.71, 'Plan Rows': 63125, 'Plan Width': 12, 'Actual Startup Time': 4.896, 'Actual Total Time': 89.198, 'Actual Rows': 54826, 'Actual Loops': 1, 'Recheck Cond': '(keyword_id < 55)', 'Rows Removed by Index Recheck': 0, 'Exact Heap Blocks': 16134, 'Lossy Heap Blocks': 0}, node_vector=None)\n",
      "--------------------------------\n",
      "└── Gather (Total Cost: 154548.95, Startup Cost: 23540.58, Plan Rows: 567655, Plan Width: 119, Actual Total Time: 646.97, Actual Rows: 283812)\n",
      "    └── Hash Join (Total Cost: 96783.45, Startup Cost: 22540.58, Plan Rows: 236523, Plan Width: 119, Actual Total Time: 518.49, Actual Rows: 94604, Join Type: Inner)\n",
      "        ├── Seq Scan (Total Cost: 49166.46, Startup Cost: 0.00, Plan Rows: 649574, Plan Width: 94, Actual Total Time: 147.05, Actual Rows: 514421, Relation Name: title, Alias: t)\n",
      "        └── Hash (Total Cost: 15122.68, Startup Cost: 15122.68, Plan Rows: 383592, Plan Width: 25, Actual Total Time: 103.55, Actual Rows: 306703)\n",
      "            └── Seq Scan (Total Cost: 15122.68, Startup Cost: 0.00, Plan Rows: 383592, Plan Width: 25, Actual Total Time: 54.38, Actual Rows: 306703, Relation Name: movie_info_idx, Alias: mi_idx)\n"
     ]
    }
   ],
   "source": [
    "import sys\n",
    "import os\n",
    "sys.path.append(os.path.join(os.path.dirname('.'), '..'))\n",
    "\n",
    "# 预处理数据\n",
    "from models.DataPreprocessor import PlanNode, DataPreprocessor\n",
    "preprocessor = DataPreprocessor()\n",
    "plans_tree = preprocessor.preprocess_all(plans_dict)\n",
    "\n",
    "# 展示\n",
    "for i in range(5):\n",
    "    print(plans_tree[i])\n",
    "print(\"--------------------------------\")\n",
    "preprocessor.print_tree(plans_tree[0])\n"
   ]
  },
  {
   "cell_type": "code",
   "execution_count": 3,
   "id": "266bde67",
   "metadata": {},
   "outputs": [
    {
     "name": "stdout",
     "output_type": "stream",
     "text": [
      "nodeEncodedVectorsBox: 5000\n",
      "5\n",
      "└── Gather (Total Cost: 154548.95, Startup Cost: 23540.58, Plan Rows: 567655, Plan Width: 119, Actual Total Time: 646.97, Actual Rows: 283812), node_vector_shape: torch.Size([64])\n",
      "    └── Hash Join (Total Cost: 96783.45, Startup Cost: 22540.58, Plan Rows: 236523, Plan Width: 119, Actual Total Time: 518.49, Actual Rows: 94604, Join Type: Inner), node_vector_shape: torch.Size([64])\n",
      "        ├── Seq Scan (Total Cost: 49166.46, Startup Cost: 0.00, Plan Rows: 649574, Plan Width: 94, Actual Total Time: 147.05, Actual Rows: 514421, Relation Name: title, Alias: t), node_vector_shape: torch.Size([64])\n",
      "        └── Hash (Total Cost: 15122.68, Startup Cost: 15122.68, Plan Rows: 383592, Plan Width: 25, Actual Total Time: 103.55, Actual Rows: 306703), node_vector_shape: torch.Size([64])\n",
      "            └── Seq Scan (Total Cost: 15122.68, Startup Cost: 0.00, Plan Rows: 383592, Plan Width: 25, Actual Total Time: 54.38, Actual Rows: 306703, Relation Name: movie_info_idx, Alias: mi_idx), node_vector_shape: torch.Size([64])\n"
     ]
    }
   ],
   "source": [
    "# NodeEncoder\n",
    "from models.NodeEncoder import NodeEncoder\n",
    "nodeEncoder = NodeEncoder()\n",
    "from typing import Any, Dict, Iterable, List, Optional\n",
    "\n",
    "nodeEncodedVectorsBox = []\n",
    "for plan_tree in plans_tree:\n",
    "    all_nodes = nodeEncoder.collect_nodes(plan_tree, method=\"dfs\")\n",
    "    nodeEncodedVectors = nodeEncoder.encode_nodes(all_nodes)\n",
    "    nodeEncodedVectorsBox.append(nodeEncodedVectors)\n",
    "\n",
    "\n",
    "print(\"nodeEncodedVectorsBox:\", len(nodeEncodedVectorsBox))\n",
    "# 查看第一个plan的编码向量\n",
    "print(len(nodeEncodedVectorsBox[0]))\n",
    "preprocessor.print_tree(plans_tree[0])\n",
    "\n",
    "# 检查每个vector是否为空\n",
    "for i in range(len(nodeEncodedVectorsBox)):\n",
    "    for j in range(len(nodeEncodedVectorsBox[i])):\n",
    "        if nodeEncodedVectorsBox[i][j] is None:\n",
    "            print(f\"nodeEncodedVectorsBox[{i}][{j}] is None\")\n",
    "\n",
    "\n"
   ]
  },
  {
   "cell_type": "code",
   "execution_count": 4,
   "id": "beba7942",
   "metadata": {},
   "outputs": [
    {
     "name": "stdout",
     "output_type": "stream",
     "text": [
      "x.shape, edge_index.shape: torch.Size([4, 64]) torch.Size([2, 6])\n",
      "torch.Size([64])\n",
      "torch.Size([64])\n",
      "torch.Size([64])\n",
      "torch.Size([64])\n",
      "torch.Size([64])\n"
     ]
    }
   ],
   "source": [
    "from models.TreeEncoder import GATTreeEncoder, TreeToGraphConverter\n",
    "import torch\n",
    "\n",
    "treeToGraphConverter = TreeToGraphConverter()\n",
    "gatTreeEncoder = GATTreeEncoder(\n",
    "    input_dim=64,      # 一定用实际特征维度\n",
    "    hidden_dim=64,\n",
    "    output_dim=64,\n",
    "    num_layers=3,\n",
    "    num_heads=4,\n",
    "    dropout=0.1,\n",
    "    pooling=\"mean\"\n",
    ")\n",
    "\n",
    "planEmbeddingBox = []\n",
    "for plan_tree in plans_tree:\n",
    "    edge_index, x = treeToGraphConverter.tree_to_graph(plan_tree)\n",
    "    x = torch.stack(\n",
    "        [torch.as_tensor(f, dtype=torch.float32) for f in x],\n",
    "        dim=0\n",
    "    )\n",
    "    planEmbeddingBox.append(gatTreeEncoder(x, edge_index))\n",
    "\n",
    "print(\"x.shape, edge_index.shape:\", x.shape, edge_index.shape)\n",
    "for i in range(5):\n",
    "    print(planEmbeddingBox[i].shape)\n"
   ]
  },
  {
   "cell_type": "code",
   "execution_count": 5,
   "id": "08f1a80c",
   "metadata": {},
   "outputs": [
    {
     "name": "stdout",
     "output_type": "stream",
     "text": [
      "predictionBox: 5000\n",
      "0.9999457877129316 654.241\n",
      "4.700297597795725 349.797\n",
      "-0.3459443412721157 1699.24\n",
      "1.3503599683754146 345.056\n",
      "1.109332099556923 90.666\n"
     ]
    }
   ],
   "source": [
    "\n",
    "# PredictionHead\n",
    "from models.PredictionHead import PredictionHead\n",
    "predictionHead = PredictionHead()\n",
    "\n",
    "predictionBox = []\n",
    "for planEmbedding in planEmbeddingBox:\n",
    "    prediction = predictionHead.predict(planEmbedding)\n",
    "    predictionBox.append(prediction)\n",
    "\n",
    "\n",
    "print(\"predictionBox:\", len(predictionBox))\n",
    "for i in range(5):\n",
    "    print(predictionBox[i], ExecutionTimes[i])\n",
    "\n"
   ]
  },
  {
   "cell_type": "code",
   "execution_count": null,
   "id": "ea31f5f0",
   "metadata": {},
   "outputs": [],
   "source": []
  }
 ],
 "metadata": {
  "kernelspec": {
   "display_name": "cs224",
   "language": "python",
   "name": "python3"
  },
  "language_info": {
   "codemirror_mode": {
    "name": "ipython",
    "version": 3
   },
   "file_extension": ".py",
   "mimetype": "text/x-python",
   "name": "python",
   "nbconvert_exporter": "python",
   "pygments_lexer": "ipython3",
   "version": "3.12.5"
  }
 },
 "nbformat": 4,
 "nbformat_minor": 5
}
